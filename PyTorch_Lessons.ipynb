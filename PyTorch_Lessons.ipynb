{
  "nbformat": 4,
  "nbformat_minor": 0,
  "metadata": {
    "colab": {
      "name": "PyTorch Lessons.ipynb",
      "provenance": [],
      "mount_file_id": "1UMUF58Bw77klJPCNAjiSEV3KkqH0fp9S",
      "authorship_tag": "ABX9TyN7QqZ1rJ0z9HKrzc7WLXpc",
      "include_colab_link": true
    },
    "kernelspec": {
      "name": "python3",
      "display_name": "Python 3"
    },
    "accelerator": "GPU"
  },
  "cells": [
    {
      "cell_type": "markdown",
      "metadata": {
        "id": "view-in-github",
        "colab_type": "text"
      },
      "source": [
        "<a href=\"https://colab.research.google.com/github/ArindamMukerjee/PyTorch_Tutorial/blob/master/PyTorch_Lessons.ipynb\" target=\"_parent\"><img src=\"https://colab.research.google.com/assets/colab-badge.svg\" alt=\"Open In Colab\"/></a>"
      ]
    },
    {
      "cell_type": "code",
      "metadata": {
        "id": "uBn64e9AKGCr",
        "colab_type": "code",
        "colab": {}
      },
      "source": [
        "import torch\n",
        "import numpy as np"
      ],
      "execution_count": 0,
      "outputs": []
    },
    {
      "cell_type": "code",
      "metadata": {
        "id": "DYnaht9pKHyl",
        "colab_type": "code",
        "outputId": "89ee0f1f-a40c-4181-d381-c6c5116f81ae",
        "colab": {
          "base_uri": "https://localhost:8080/",
          "height": 34
        }
      },
      "source": [
        "torch.cuda.is_available()"
      ],
      "execution_count": 0,
      "outputs": [
        {
          "output_type": "execute_result",
          "data": {
            "text/plain": [
              "True"
            ]
          },
          "metadata": {
            "tags": []
          },
          "execution_count": 2
        }
      ]
    },
    {
      "cell_type": "markdown",
      "metadata": {
        "id": "D_1QcKRaQC5T",
        "colab_type": "text"
      },
      "source": [
        "## Tensor Operations"
      ]
    },
    {
      "cell_type": "code",
      "metadata": {
        "id": "t0N1uo4eKLf_",
        "colab_type": "code",
        "outputId": "d95bedfc-9303-4bfa-c434-d30eb8e8f8af",
        "colab": {
          "base_uri": "https://localhost:8080/",
          "height": 50
        }
      },
      "source": [
        "# tensor operations\n",
        "x = torch.empty(2, 3)\n",
        "print(x)"
      ],
      "execution_count": 0,
      "outputs": [
        {
          "output_type": "stream",
          "text": [
            "tensor([[1.2247e-35, 0.0000e+00, 1.5975e-43],\n",
            "        [1.3873e-43, 1.4574e-43, 6.4460e-44]])\n"
          ],
          "name": "stdout"
        }
      ]
    },
    {
      "cell_type": "code",
      "metadata": {
        "id": "E4GCYdUEKjRU",
        "colab_type": "code",
        "outputId": "1b23558b-b5f3-451e-c944-0f5ee0705a2c",
        "colab": {
          "base_uri": "https://localhost:8080/",
          "height": 50
        }
      },
      "source": [
        "torch.rand(2, 2)"
      ],
      "execution_count": 0,
      "outputs": [
        {
          "output_type": "execute_result",
          "data": {
            "text/plain": [
              "tensor([[0.3969, 0.9359],\n",
              "        [0.0528, 0.7492]])"
            ]
          },
          "metadata": {
            "tags": []
          },
          "execution_count": 8
        }
      ]
    },
    {
      "cell_type": "code",
      "metadata": {
        "id": "XAQBYEq0K0jd",
        "colab_type": "code",
        "outputId": "fedf6b4d-e78c-4689-b2bb-8f7b20508d35",
        "colab": {
          "base_uri": "https://localhost:8080/",
          "height": 50
        }
      },
      "source": [
        "torch.zeros(2, 2)"
      ],
      "execution_count": 0,
      "outputs": [
        {
          "output_type": "execute_result",
          "data": {
            "text/plain": [
              "tensor([[0., 0.],\n",
              "        [0., 0.]])"
            ]
          },
          "metadata": {
            "tags": []
          },
          "execution_count": 9
        }
      ]
    },
    {
      "cell_type": "code",
      "metadata": {
        "id": "S_C7-aEUK32C",
        "colab_type": "code",
        "outputId": "b8312794-7862-4c4d-b59e-4f48334f9e32",
        "colab": {
          "base_uri": "https://localhost:8080/",
          "height": 34
        }
      },
      "source": [
        "# tensor with a specific datatype\n",
        "x = torch.ones(2, 2, dtype = torch.int)\n",
        "print(x.dtype)"
      ],
      "execution_count": 0,
      "outputs": [
        {
          "output_type": "stream",
          "text": [
            "torch.int32\n"
          ],
          "name": "stdout"
        }
      ]
    },
    {
      "cell_type": "code",
      "metadata": {
        "id": "iD80KRsRLEO1",
        "colab_type": "code",
        "outputId": "1cb39c6d-8d8f-4778-aad9-0bbbe1fa79c1",
        "colab": {
          "base_uri": "https://localhost:8080/",
          "height": 67
        }
      },
      "source": [
        "# from a numpy array\n",
        "torch.tensor(np.random.random([3, 3]))"
      ],
      "execution_count": 0,
      "outputs": [
        {
          "output_type": "execute_result",
          "data": {
            "text/plain": [
              "tensor([[0.2498, 0.6714, 0.5926],\n",
              "        [0.4261, 0.2380, 0.6748],\n",
              "        [0.6482, 0.7705, 0.4645]], dtype=torch.float64)"
            ]
          },
          "metadata": {
            "tags": []
          },
          "execution_count": 16
        }
      ]
    },
    {
      "cell_type": "code",
      "metadata": {
        "id": "sd6IdQkcLZDc",
        "colab_type": "code",
        "outputId": "433a170e-94f3-41ce-8a04-2c84a1690039",
        "colab": {
          "base_uri": "https://localhost:8080/",
          "height": 50
        }
      },
      "source": [
        "# add and update a tensor\n",
        "x = torch.rand(2, 2) \n",
        "y = torch.rand(2, 2)\n",
        "y.add_(x)"
      ],
      "execution_count": 0,
      "outputs": [
        {
          "output_type": "execute_result",
          "data": {
            "text/plain": [
              "tensor([[0.7365, 1.0182],\n",
              "        [1.0378, 1.0005]])"
            ]
          },
          "metadata": {
            "tags": []
          },
          "execution_count": 19
        }
      ]
    },
    {
      "cell_type": "code",
      "metadata": {
        "id": "F1FIrybMNzKW",
        "colab_type": "code",
        "outputId": "5af13d30-252e-4f9d-cb68-406a3f206f15",
        "colab": {
          "base_uri": "https://localhost:8080/",
          "height": 34
        }
      },
      "source": [
        "# save a tensor to gpu (it can't be converted to numpy)\n",
        "device = torch.device('cuda')\n",
        "x = torch.ones(5)\n",
        "x.to(device)"
      ],
      "execution_count": 0,
      "outputs": [
        {
          "output_type": "execute_result",
          "data": {
            "text/plain": [
              "tensor([1., 1., 1., 1., 1.], device='cuda:0')"
            ]
          },
          "metadata": {
            "tags": []
          },
          "execution_count": 43
        }
      ]
    },
    {
      "cell_type": "markdown",
      "metadata": {
        "id": "IO_ZO6ccQGJr",
        "colab_type": "text"
      },
      "source": [
        "## Autograd"
      ]
    },
    {
      "cell_type": "code",
      "metadata": {
        "id": "5T3dcP-sQHoj",
        "colab_type": "code",
        "outputId": "c10404dc-d055-4e0d-a023-5859e1825c23",
        "colab": {
          "base_uri": "https://localhost:8080/",
          "height": 34
        }
      },
      "source": [
        "x = torch.randn(3, requires_grad = True)\n",
        "print(x)"
      ],
      "execution_count": 0,
      "outputs": [
        {
          "output_type": "stream",
          "text": [
            "tensor([-0.5050,  0.7355,  0.0447], requires_grad=True)\n"
          ],
          "name": "stdout"
        }
      ]
    },
    {
      "cell_type": "code",
      "metadata": {
        "id": "KLSXtxfBQLQs",
        "colab_type": "code",
        "outputId": "667b1adb-25e4-4998-e2cc-2052d7a20ac1",
        "colab": {
          "base_uri": "https://localhost:8080/",
          "height": 34
        }
      },
      "source": [
        "# gradients with a scalar output\n",
        "y = x + 2\n",
        "z = y * y * 2\n",
        "z = z.mean()\n",
        "z.backward()\n",
        "print(x.grad)"
      ],
      "execution_count": 0,
      "outputs": [
        {
          "output_type": "stream",
          "text": [
            "tensor([1.9934, 3.6473, 2.7263])\n"
          ],
          "name": "stdout"
        }
      ]
    },
    {
      "cell_type": "code",
      "metadata": {
        "id": "WI7Z9ESWQUBp",
        "colab_type": "code",
        "outputId": "49770958-1a3b-4ee4-8e8f-f8e83dd8dec9",
        "colab": {
          "base_uri": "https://localhost:8080/",
          "height": 34
        }
      },
      "source": [
        "# gradients with vector output\n",
        "y = x + 2\n",
        "z = y * y * 2\n",
        "vec = torch.tensor([0.1, 1.0, .001], dtype = torch.float32)\n",
        "z.backward(vec)\n",
        "print(x.grad)"
      ],
      "execution_count": 0,
      "outputs": [
        {
          "output_type": "stream",
          "text": [
            "tensor([ 2.5914, 14.5893,  2.7345])\n"
          ],
          "name": "stdout"
        }
      ]
    },
    {
      "cell_type": "code",
      "metadata": {
        "id": "jX2ATmwAQly_",
        "colab_type": "code",
        "outputId": "bc6b6229-5d20-4ca3-e9ce-fa6885356e43",
        "colab": {
          "base_uri": "https://localhost:8080/",
          "height": 34
        }
      },
      "source": [
        "# prevent function from tracking gradients\n",
        "x = torch.randn(3, requires_grad = True)\n",
        "x.requires_grad_(False)\n",
        "print(x)"
      ],
      "execution_count": 0,
      "outputs": [
        {
          "output_type": "stream",
          "text": [
            "tensor([-1.3093, -0.8800,  1.1363])\n"
          ],
          "name": "stdout"
        }
      ]
    },
    {
      "cell_type": "code",
      "metadata": {
        "id": "vBO4F_-GQ5X5",
        "colab_type": "code",
        "outputId": "41935447-e0fe-4167-eb10-a0ff5d00edb9",
        "colab": {
          "base_uri": "https://localhost:8080/",
          "height": 34
        }
      },
      "source": [
        "# second option\n",
        "x = torch.randn(3, requires_grad = True)\n",
        "y = x.detach()\n",
        "print(y)"
      ],
      "execution_count": 0,
      "outputs": [
        {
          "output_type": "stream",
          "text": [
            "tensor([-1.1350, -0.7366,  1.0328])\n"
          ],
          "name": "stdout"
        }
      ]
    },
    {
      "cell_type": "code",
      "metadata": {
        "id": "R6gFlTMqRE_2",
        "colab_type": "code",
        "outputId": "f780db53-6363-44ff-bf48-03e3c6d4da63",
        "colab": {
          "base_uri": "https://localhost:8080/",
          "height": 34
        }
      },
      "source": [
        "# third option\n",
        "with torch.no_grad():\n",
        "  y = x + 2\n",
        "  print(y)"
      ],
      "execution_count": 0,
      "outputs": [
        {
          "output_type": "stream",
          "text": [
            "tensor([0.8650, 1.2634, 3.0328])\n"
          ],
          "name": "stdout"
        }
      ]
    },
    {
      "cell_type": "code",
      "metadata": {
        "id": "sHHhmWsYRJQ0",
        "colab_type": "code",
        "outputId": "4224d0b9-6ce7-41ca-ec76-aa701febd96a",
        "colab": {
          "base_uri": "https://localhost:8080/",
          "height": 67
        }
      },
      "source": [
        "# method to make sure that weights do not accumulate\n",
        "weights = torch.ones(4, requires_grad = True)\n",
        "for epoch in range(3):\n",
        "  model_output = (weights * 3).sum()\n",
        "  model_output.backward()\n",
        "  print(weights.grad)\n",
        "  weights.grad.zero_()"
      ],
      "execution_count": 0,
      "outputs": [
        {
          "output_type": "stream",
          "text": [
            "tensor([3., 3., 3., 3.])\n",
            "tensor([3., 3., 3., 3.])\n",
            "tensor([3., 3., 3., 3.])\n"
          ],
          "name": "stdout"
        }
      ]
    },
    {
      "cell_type": "markdown",
      "metadata": {
        "id": "oc-Au0pJWade",
        "colab_type": "text"
      },
      "source": [
        "## Backprop"
      ]
    },
    {
      "cell_type": "code",
      "metadata": {
        "id": "Z641R9sHSNEl",
        "colab_type": "code",
        "outputId": "2868e8d1-5b22-40ba-ea73-6853ed9e1eb5",
        "colab": {
          "base_uri": "https://localhost:8080/",
          "height": 34
        }
      },
      "source": [
        "x = torch.tensor(1.0)\n",
        "y = torch.tensor(2.0)\n",
        "w = torch.tensor(1.0, requires_grad = True)\n",
        "\n",
        "# forward pass\n",
        "y_hat = w * x\n",
        "loss = (y_hat - y)**2\n",
        "\n",
        "# backward pass\n",
        "loss.backward()\n",
        "print(w.grad)\n",
        "\n",
        "# update weight and continue forward and backward pass"
      ],
      "execution_count": 0,
      "outputs": [
        {
          "output_type": "stream",
          "text": [
            "tensor(-2.)\n"
          ],
          "name": "stdout"
        }
      ]
    },
    {
      "cell_type": "markdown",
      "metadata": {
        "id": "m6IA2lBoZR7d",
        "colab_type": "text"
      },
      "source": [
        "## Gradient from scratch (2 methods)"
      ]
    },
    {
      "cell_type": "code",
      "metadata": {
        "id": "Z4w49aXwZJas",
        "colab_type": "code",
        "outputId": "3c3ad49d-10a6-4ba4-9e60-9f0ba575bdeb",
        "colab": {
          "base_uri": "https://localhost:8080/",
          "height": 218
        }
      },
      "source": [
        "# manual learning\n",
        "X = np.array([1, 2, 3, 4], dtype = np.float32)\n",
        "Y = np.array([2, 4, 6, 8], dtype = np.float32)\n",
        "w = 0.0\n",
        "\n",
        "# model prediction\n",
        "def forward(x):\n",
        "    return w * x\n",
        "\n",
        "# loss\n",
        "def loss(y, y_pred):\n",
        "    return ((y_pred - y)**2).mean()\n",
        "\n",
        "# gradient\n",
        "def gradient(x, y, y_pred):\n",
        "    return np.dot(2 * x, y_pred - y).mean()\n",
        "\n",
        "print(f'Prediction before training: f(5) = {forward(5):.3f}')\n",
        "\n",
        "# Training\n",
        "learning_rate = 0.01\n",
        "n_iters = 10\n",
        "\n",
        "for epoch in range(n_iters):\n",
        "    # prediction\n",
        "    y_pred = forward(X)\n",
        "\n",
        "    # loss\n",
        "    l = loss(Y, y_pred)\n",
        "\n",
        "    # gradients\n",
        "    dw = gradient(X, Y, y_pred)\n",
        "\n",
        "    # update weights\n",
        "    w -= learning_rate * dw\n",
        "\n",
        "    if epoch % 1 == 0:\n",
        "        print(f'epoch {epoch+1} : w = {w:.3f}, loss = {l:.8f}')\n",
        "\n",
        "print(f'Prediction after training : f(5) = {forward(5) : .3f}')"
      ],
      "execution_count": 0,
      "outputs": [
        {
          "output_type": "stream",
          "text": [
            "Prediction before training: f(5) = 0.000\n",
            "epoch 1 : w = 1.200, loss = 30.00000000\n",
            "epoch 2 : w = 1.680, loss = 4.79999924\n",
            "epoch 3 : w = 1.872, loss = 0.76800019\n",
            "epoch 4 : w = 1.949, loss = 0.12288000\n",
            "epoch 5 : w = 1.980, loss = 0.01966083\n",
            "epoch 6 : w = 1.992, loss = 0.00314574\n",
            "epoch 7 : w = 1.997, loss = 0.00050331\n",
            "epoch 8 : w = 1.999, loss = 0.00008053\n",
            "epoch 9 : w = 1.999, loss = 0.00001288\n",
            "epoch 10 : w = 2.000, loss = 0.00000206\n",
            "Prediction after training : f(5) =  9.999\n"
          ],
          "name": "stdout"
        }
      ]
    },
    {
      "cell_type": "code",
      "metadata": {
        "id": "VIsGizWQaT2B",
        "colab_type": "code",
        "outputId": "f039a080-1eaf-401e-c437-51bdaafee272",
        "colab": {
          "base_uri": "https://localhost:8080/",
          "height": 202
        }
      },
      "source": [
        "# automated gradient\n",
        "X = torch.tensor([1, 2, 3, 4], dtype = torch.float32)\n",
        "Y = torch.tensor([2, 4, 6, 8], dtype = torch.float32)\n",
        "w = torch.tensor(0.0, requires_grad = True, dtype = torch.float32)\n",
        "\n",
        "# model prediction \n",
        "def forward(x):\n",
        "    return w * x\n",
        "\n",
        "# loss\n",
        "def loss(y, y_pred):\n",
        "    return ((y_pred - y)**2).mean()\n",
        "\n",
        "# learning\n",
        "learning_rate = 0.01\n",
        "n_iters = 20\n",
        "for epoch in range(n_iters):\n",
        "    # prediction\n",
        "    y_pred = forward(X)\n",
        "\n",
        "    # loss\n",
        "    l = loss(Y, y_pred)\n",
        "\n",
        "    # gradients\n",
        "    l.backward()\n",
        "\n",
        "    # update weights\n",
        "    with torch.no_grad():\n",
        "        w -= learning_rate * w.grad\n",
        "    \n",
        "    # zero gradients\n",
        "    w.grad.zero_()\n",
        "\n",
        "    if epoch % 2 == 0:\n",
        "        print(f'epoch {epoch + 1} : w = {w : .3f}, loss = {l : .8f}')\n",
        "\n",
        "print(f'Prediction after training : f(5) = {forward(5) : .3f}')"
      ],
      "execution_count": 0,
      "outputs": [
        {
          "output_type": "stream",
          "text": [
            "epoch 1 : w =  0.300, loss =  30.00000000\n",
            "epoch 3 : w =  0.772, loss =  15.66018772\n",
            "epoch 5 : w =  1.113, loss =  8.17471695\n",
            "epoch 7 : w =  1.359, loss =  4.26725292\n",
            "epoch 9 : w =  1.537, loss =  2.22753215\n",
            "epoch 11 : w =  1.665, loss =  1.16278565\n",
            "epoch 13 : w =  1.758, loss =  0.60698116\n",
            "epoch 15 : w =  1.825, loss =  0.31684780\n",
            "epoch 17 : w =  1.874, loss =  0.16539653\n",
            "epoch 19 : w =  1.909, loss =  0.08633806\n",
            "Prediction after training : f(5) =  9.612\n"
          ],
          "name": "stdout"
        }
      ]
    },
    {
      "cell_type": "markdown",
      "metadata": {
        "id": "yXNNZ94golwv",
        "colab_type": "text"
      },
      "source": [
        "## Training Pipeline"
      ]
    },
    {
      "cell_type": "code",
      "metadata": {
        "id": "Ee2kmoy6onG0",
        "colab_type": "code",
        "colab": {}
      },
      "source": [
        "import torch.nn as nn"
      ],
      "execution_count": 0,
      "outputs": []
    },
    {
      "cell_type": "code",
      "metadata": {
        "id": "hAOx1FjFo6U2",
        "colab_type": "code",
        "outputId": "61e5448d-7a20-4d93-80ed-51378c4e01cd",
        "colab": {
          "base_uri": "https://localhost:8080/",
          "height": 218
        }
      },
      "source": [
        "X = torch.tensor([1, 2, 3, 4], dtype = torch.float32).reshape(4, 1)\n",
        "Y = torch.tensor([2, 4, 6, 8], dtype = torch.float32).reshape(4, 1)\n",
        "\n",
        "X_test = torch.tensor([5], dtype = torch.float32)\n",
        "\n",
        "n_samples, n_features = X.shape\n",
        "\n",
        "# pytorch model\n",
        "input_size = n_features\n",
        "output_size = n_features\n",
        "\n",
        "model = nn.Linear(input_size, output_size)\n",
        "\n",
        "print(f'Prediction before training : f(5) = {model(X_test).item() : .3f}')\n",
        "\n",
        "# training \n",
        "learning_rate = 0.01\n",
        "n_iters = 100\n",
        "\n",
        "loss = nn.MSELoss()\n",
        "optimizer = torch.optim.SGD(model.parameters(), lr = learning_rate)\n",
        "\n",
        "for epoch in range(n_iters):\n",
        "    # prediction\n",
        "    y_pred = model(X)\n",
        "\n",
        "    # loss\n",
        "    l = loss(Y, y_pred)\n",
        "\n",
        "    # gradients\n",
        "    l.backward()\n",
        "\n",
        "    # update weights\n",
        "    optimizer.step()\n",
        "\n",
        "    # zero gradients\n",
        "    optimizer.zero_grad()\n",
        "\n",
        "    if epoch % 10 == 0:\n",
        "        [w, b] = model.parameters()\n",
        "        print(f'epoch {epoch + 1} : w = {w[0][0].item() : .3f}, loss = {l : .8f}')\n",
        "\n",
        "print(f'Prediction after training {model(X_test).item() : .3f}')"
      ],
      "execution_count": 0,
      "outputs": [
        {
          "output_type": "stream",
          "text": [
            "Prediction before training : f(5) =  3.697\n",
            "epoch 1 : w =  0.791, loss =  10.45881748\n",
            "epoch 11 : w =  1.536, loss =  0.41821748\n",
            "epoch 21 : w =  1.664, loss =  0.14985111\n",
            "epoch 31 : w =  1.692, loss =  0.13481550\n",
            "epoch 41 : w =  1.704, loss =  0.12680523\n",
            "epoch 51 : w =  1.713, loss =  0.11942028\n",
            "epoch 61 : w =  1.722, loss =  0.11246924\n",
            "epoch 71 : w =  1.730, loss =  0.10592294\n",
            "epoch 81 : w =  1.738, loss =  0.09975767\n",
            "epoch 91 : w =  1.746, loss =  0.09395130\n",
            "Prediction after training  9.490\n"
          ],
          "name": "stdout"
        }
      ]
    },
    {
      "cell_type": "markdown",
      "metadata": {
        "id": "lraLSloAuvBu",
        "colab_type": "text"
      },
      "source": [
        "## Linear Regression"
      ]
    },
    {
      "cell_type": "code",
      "metadata": {
        "id": "FFA231ixuwZZ",
        "colab_type": "code",
        "outputId": "346df2a0-c13e-4eae-f7f2-7348a854db32",
        "colab": {
          "base_uri": "https://localhost:8080/",
          "height": 433
        }
      },
      "source": [
        "import torch.nn as nn\n",
        "from sklearn import datasets\n",
        "import matplotlib.pyplot as plt\n",
        "\n",
        "# data prep\n",
        "X, y = datasets.make_regression(n_samples = 100, n_features = 1, noise = 20, random_state = 1)\n",
        "\n",
        "X = torch.from_numpy(X.astype(np.float32))\n",
        "y = torch.from_numpy(y.astype(np.float32)).reshape(-1, 1)\n",
        "\n",
        "n_samples, n_features = X.shape\n",
        "\n",
        "# model definition\n",
        "model = nn.Linear(n_features, 1)\n",
        "\n",
        "# loss and optimizer\n",
        "learning_rate = 0.01\n",
        "criterion = nn.MSELoss()\n",
        "optimizer = torch.optim.SGD(model.parameters(), lr = learning_rate)\n",
        "\n",
        "# training loop\n",
        "num_epochs = 100\n",
        "for epoch in range(num_epochs):\n",
        "    # forward pass and loss\n",
        "    y_pred = model(X)\n",
        "    loss = criterion(y_pred, y)\n",
        "\n",
        "    # backward pass\n",
        "    loss.backward()\n",
        "\n",
        "    # weight update\n",
        "    optimizer.step()\n",
        "\n",
        "    # empty gradients\n",
        "    optimizer.zero_grad()\n",
        "\n",
        "    if (epoch + 1) % 10 == 0:\n",
        "        print(f'epoch : {epoch + 1}, loss = {loss.item() : .4f}')\n",
        "\n",
        "# plot\n",
        "predicted = model(X).detach().numpy()\n",
        "plt.plot(X, y, 'ro')\n",
        "plt.plot(X, predicted, 'b')\n",
        "plt.show()"
      ],
      "execution_count": 0,
      "outputs": [
        {
          "output_type": "stream",
          "text": [
            "epoch : 10, loss =  4396.3535\n",
            "epoch : 20, loss =  3279.5200\n",
            "epoch : 30, loss =  2471.5444\n",
            "epoch : 40, loss =  1886.3839\n",
            "epoch : 50, loss =  1462.1691\n",
            "epoch : 60, loss =  1154.3488\n",
            "epoch : 70, loss =  930.7967\n",
            "epoch : 80, loss =  768.3163\n",
            "epoch : 90, loss =  650.1384\n",
            "epoch : 100, loss =  564.1260\n"
          ],
          "name": "stdout"
        },
        {
          "output_type": "display_data",
          "data": {
            "image/png": "[encoded data removed]",
            "text/plain": [
              "<Figure size 432x288 with 1 Axes>"
            ]
          },
          "metadata": {
            "tags": [],
            "needs_background": "light"
          }
        }
      ]
    },
    {
      "cell_type": "markdown",
      "metadata": {
        "id": "dqL_3eqPxZdT",
        "colab_type": "text"
      },
      "source": [
        "## Logistic Regression"
      ]
    },
    {
      "cell_type": "code",
      "metadata": {
        "id": "3npHDZlrxt0d",
        "colab_type": "code",
        "outputId": "55d8558d-0b60-4b0a-a6b3-7a59665d77c9",
        "colab": {
          "base_uri": "https://localhost:8080/",
          "height": 202
        }
      },
      "source": [
        "import torch\n",
        "import torch.nn as nn\n",
        "import numpy as np\n",
        "from sklearn import datasets\n",
        "from sklearn.preprocessing import StandardScaler\n",
        "from sklearn.model_selection import train_test_split\n",
        "\n",
        "# data prep\n",
        "bc = datasets.load_breast_cancer()\n",
        "X, y = bc.data, bc.target\n",
        "\n",
        "n_samples, n_features = X.shape\n",
        "\n",
        "X_train, X_test, y_train, y_test = train_test_split(X, y, test_size = 0.2, random_state = 1234)\n",
        "\n",
        "# scale\n",
        "sc = StandardScaler()\n",
        "X_train = sc.fit_transform(X_train)\n",
        "X_test = sc.transform(X_test)\n",
        "\n",
        "X_train = torch.from_numpy(X_train.astype(np.float32))\n",
        "X_test = torch.from_numpy(X_test.astype(np.float32))\n",
        "y_train = torch.from_numpy(y_train.astype(np.float32)).reshape(-1, 1)\n",
        "y_test = torch.from_numpy(y_test.astype(np.float32)).reshape(-1, 1)\n",
        "\n",
        "# model\n",
        "class LogisticRegression(nn.Module):\n",
        "    def __init__(self, n_features):\n",
        "        super(LogisticRegression, self).__init__()\n",
        "        self.linear = nn.Linear(n_features, 1)\n",
        "\n",
        "    def forward(self, x):\n",
        "        y_predicted = torch.sigmoid(self.linear(x))\n",
        "        return y_predicted\n",
        "\n",
        "model = LogisticRegression(n_features)\n",
        "\n",
        "# loss and optimizer\n",
        "learning_rate = 0.01\n",
        "criterion = nn.BCELoss()\n",
        "optimizer = torch.optim.SGD(model.parameters(), lr = learning_rate)\n",
        "\n",
        "# training loop\n",
        "num_epochs = 100\n",
        "for epoch in range(num_epochs):\n",
        "    # forward pass and loss\n",
        "    y_predicted = model(X_train)\n",
        "    loss = criterion(y_predicted, y_train)\n",
        "\n",
        "    # backward pass\n",
        "    loss.backward()\n",
        "\n",
        "    # weight updates\n",
        "    optimizer.step()\n",
        "\n",
        "    # zero gradients\n",
        "    optimizer.zero_grad()\n",
        "\n",
        "    # print values\n",
        "    if (epoch + 1) % 10 == 0:\n",
        "        print(f'epoch : {epoch + 1}, loss = {loss.item() : .4f}')\n",
        "\n",
        "with torch.no_grad():\n",
        "    y_predicted = model(X_test)\n",
        "    y_predicted_cls = y_predicted.round()\n",
        "    acc = y_predicted_cls.eq(y_test).sum() / float(y_test.shape[0])\n",
        "    print(f'accuracy = {acc : .4f}')"
      ],
      "execution_count": 0,
      "outputs": [
        {
          "output_type": "stream",
          "text": [
            "epoch : 10, loss =  0.6836\n",
            "epoch : 20, loss =  0.5266\n",
            "epoch : 30, loss =  0.4362\n",
            "epoch : 40, loss =  0.3788\n",
            "epoch : 50, loss =  0.3391\n",
            "epoch : 60, loss =  0.3099\n",
            "epoch : 70, loss =  0.2874\n",
            "epoch : 80, loss =  0.2694\n",
            "epoch : 90, loss =  0.2546\n",
            "epoch : 100, loss =  0.2422\n",
            "accuracy =  0.9035\n"
          ],
          "name": "stdout"
        }
      ]
    },
    {
      "cell_type": "markdown",
      "metadata": {
        "id": "ZtnuOvCxH3zP",
        "colab_type": "text"
      },
      "source": [
        "## Dataset and Data Loader"
      ]
    }
  ]
}